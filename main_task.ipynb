{
  "nbformat": 4,
  "nbformat_minor": 0,
  "metadata": {
    "colab": {
      "name": "main_task.ipynb",
      "provenance": [],
      "collapsed_sections": []
    },
    "kernelspec": {
      "name": "python3",
      "display_name": "Python 3"
    },
    "language_info": {
      "name": "python"
    }
  },
  "cells": [
    {
      "cell_type": "markdown",
      "source": [
        "[![Open In Colab](https://colab.research.google.com/assets/colab-badge.svg)](https://github.com/atharva106/Credicxo-Task/blob/main/main_task.ipynb)"
      ],
      "metadata": {
        "id": "mz6hKLlvd-n0"
      }
    },
    {
      "cell_type": "markdown",
      "source": [
        "#**Imports**"
      ],
      "metadata": {
        "id": "Odj7G00JeDRA"
      }
    },
    {
      "cell_type": "code",
      "execution_count": null,
      "metadata": {
        "id": "j2n69CwXcaG7"
      },
      "outputs": [],
      "source": [
        "import os\n",
        "import time\n",
        "import json\n",
        "import pathlib\n",
        "import warnings\n",
        "import pandas as pd\n",
        "from selenium import webdriver\n",
        "from selenium.webdriver.chrome.options import Options\n",
        "\n",
        "warnings.filterwarnings(\"ignore\", category=DeprecationWarning) \n",
        "\n",
        "path_dir = pathlib.Path('') # Enter the path to the directory here\n",
        "os.chdir(path_dir)\n",
        "\n",
        "pd.options.mode.chained_assignment = None"
      ]
    },
    {
      "cell_type": "markdown",
      "source": [
        "#**Scrape Function**"
      ],
      "metadata": {
        "id": "Ya1HYoGDeH3O"
      }
    },
    {
      "cell_type": "code",
      "source": [
        "options = Options()\n",
        "# options.add_argument(\"--headless\")\n",
        "\n",
        "def scrape(url):\n",
        "    driver = webdriver.Chrome(options=options)\n",
        "    driver.get(url)\n",
        "\n",
        "    title = None\n",
        "    price = None\n",
        "    description = None\n",
        "    img = None\n",
        "\n",
        "    # Get Title\n",
        "    try:\n",
        "        title = driver.find_element_by_id('productTitle').text\n",
        "    except:\n",
        "        print(url, 'not available')\n",
        "        return None\n",
        "\n",
        "    # Get price\n",
        "    try:\n",
        "        price = driver.find_element_by_id('price').text\n",
        "    except:\n",
        "        pass\n",
        "\n",
        "    try:\n",
        "        price = driver.find_element_by_class_name('a-price-whole').text.strip() + driver.find_element_by_class_name('a-price-fraction').text.strip() + driver.find_element_by_class_name('a-price-symbol').text.strip()\n",
        "    except:\n",
        "        pass\n",
        "\n",
        "    # Get description\n",
        "    try:\n",
        "        description = driver.find_element_by_id('featurebullets_feature_div').text.strip()\n",
        "    except:\n",
        "        pass\n",
        "    try:\n",
        "        description = driver.find_element_by_id('bookDescription_feature_div').text.strip()\n",
        "    except:\n",
        "        pass\n",
        "\n",
        "    # Get image url\n",
        "    try:\n",
        "        img = driver.find_element_by_id('imgTagWrapperId').find_element_by_tag_name('img').get_attribute('src')\n",
        "    except:\n",
        "        pass\n",
        "    try:\n",
        "        img = driver.find_element_by_id('img-canvas').find_element_by_tag_name('img').get_attribute('src')\n",
        "    except:\n",
        "        pass\n",
        "\n",
        "    return {'url' : str(url),\n",
        "            'title' : str(title),\n",
        "            'price' : str(price),\n",
        "            'description' : str(description),\n",
        "            'image' : str(img)}"
      ],
      "metadata": {
        "id": "bbzrl7kVeLbe"
      },
      "execution_count": null,
      "outputs": []
    },
    {
      "cell_type": "markdown",
      "source": [
        "#**Main Loop**"
      ],
      "metadata": {
        "id": "wt0YyfEVmxDt"
      }
    },
    {
      "cell_type": "code",
      "source": [
        "df = pd.read_csv('https://raw.githubusercontent.com/atharva106/Credicxo-Task/main/amazon_scraping_sheet.csv')\n",
        "\n",
        "data = []\n",
        "\n",
        "for i in df.index:\n",
        "    url = 'https://www.amazon.' + str(df['country'][i]) + '/dp/' + str(df['Asin'][i])\n",
        "\n",
        "    product = scrape(url)\n",
        "\n",
        "    if product != None:\n",
        "        data.append(product)"
      ],
      "metadata": {
        "id": "PPN0zPNMmy3I"
      },
      "execution_count": null,
      "outputs": []
    },
    {
      "cell_type": "markdown",
      "source": [
        "#**Save Files**"
      ],
      "metadata": {
        "id": "jBzYDkOsqi73"
      }
    },
    {
      "cell_type": "code",
      "source": [
        "with open('products.json', 'w') as out:\n",
        "    json.dump(data, out)\n",
        "\n",
        "data = pd.DataFrame(data)\n",
        "data.to_csv('products.csv', index=False)"
      ],
      "metadata": {
        "id": "zCV6TZ28qmu0"
      },
      "execution_count": null,
      "outputs": []
    }
  ]
}